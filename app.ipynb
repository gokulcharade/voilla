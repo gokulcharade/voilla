{
 "cells": [
  {
   "cell_type": "code",
   "execution_count": null,
   "metadata": {},
   "outputs": [],
   "source": [
    "import pycountry\n",
    "import plotly.express as px\n",
    "import pandas as pd\n",
    "\n",
    "URL_DATASET = r'https://raw.githubusercontent.com/datasets/covid-19/master/data/countries-aggregated.csv'\n",
    "df1 = pd.read_csv(URL_DATASET)\n",
    "list_countries = df1['Country'].unique().tolist()\n",
    "d_country_code = {}\n",
    "for country in list_countries:\n",
    "    try:\n",
    "        country_data = pycountry.countries.search_fuzzy(country)\n",
    "        country_code = country_data[0].alpha_3\n",
    "        d_country_code.update({country: country_code})\n",
    "    except:\n",
    "        d_country_code.update({country: ' '})\n",
    "for k, v in d_country_code.items():\n",
    "    df1.loc[(df1.Country == k), 'iso_alpha'] = v\n",
    "fig = px.choropleth(data_frame = df1,\n",
    "                    locations= \"iso_alpha\",\n",
    "                    color= \"Confirmed\",\n",
    "                    hover_name= \"Country\",\n",
    "                    color_continuous_scale= 'reds',\n",
    "                    animation_frame= \"Date\")\n",
    "fig.show()"
   ]
  },
  {
   "cell_type": "code",
   "execution_count": null,
   "metadata": {},
   "outputs": [],
   "source": []
  }
 ],
 "metadata": {
  "kernelspec": {
   "display_name": "Python 3",
   "language": "python",
   "name": "python3"
  },
  "language_info": {
   "codemirror_mode": {
    "name": "ipython",
    "version": 3
   },
   "file_extension": ".py",
   "mimetype": "text/x-python",
   "name": "python",
   "nbconvert_exporter": "python",
   "pygments_lexer": "ipython3",
   "version": "3.8.5"
  },
  "widgets": {
   "application/vnd.jupyter.widget-state+json": {
    "state": {},
    "version_major": 2,
    "version_minor": 0
   }
  }
 },
 "nbformat": 4,
 "nbformat_minor": 4
}
