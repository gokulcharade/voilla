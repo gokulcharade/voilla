{
 "cells": [
  {
   "cell_type": "markdown",
   "metadata": {},
   "source": [
    "# TOP 20 REAL TIME INDIA COVID-19 NEWS AND UPDATE PROVIDER"
   ]
  },
  {
   "cell_type": "code",
   "execution_count": null,
   "metadata": {},
   "outputs": [],
   "source": [
    "# importing requests package \n",
    "import requests\t \n",
    "\n",
    "def NewsFromBBC(): \n",
    "\t\n",
    "\t# BBC news api \n",
    "\tmain_url = ('http://newsapi.org/v2/everything?'\n",
    "       'q=Corona India&'\n",
    "       'from=2020-09-05&'\n",
    "       'sortBy=popularity&'\n",
    "       'apiKey=8c7c9330436a4d74b84916ce1a357765')\n",
    "\n",
    "\t# fetching data in json format \n",
    "\topen_bbc_page = requests.get(main_url).json() \n",
    "\n",
    "\t# getting all articles in a string article \n",
    "\tarticle = open_bbc_page[\"articles\"] \n",
    "\n",
    "\t# empty list which will \n",
    "\t# contain all trending news \n",
    "\tresults = [] \n",
    "\t\n",
    "\tfor ar in article: \n",
    "\t\tresults.append(ar[\"title\"]) \n",
    "\t\t\n",
    "\tfor i in range(len(results)): \n",
    "\t\t\n",
    "\t\t# printing all trending news \n",
    "\t\tprint(i + 1, results[i]) \n",
    "\t\t\t\t \n",
    "\n",
    "# Driver Code \n",
    "if __name__ == '__main__': \n",
    "\t\n",
    "\t# function call \n",
    "\tNewsFromBBC() \n"
   ]
  },
  {
   "cell_type": "code",
   "execution_count": null,
   "metadata": {},
   "outputs": [],
   "source": []
  }
 ],
 "metadata": {
  "kernelspec": {
   "display_name": "Python 3",
   "language": "python",
   "name": "python3"
  },
  "language_info": {
   "codemirror_mode": {
    "name": "ipython",
    "version": 3
   },
   "file_extension": ".py",
   "mimetype": "text/x-python",
   "name": "python",
   "nbconvert_exporter": "python",
   "pygments_lexer": "ipython3",
   "version": "3.8.5"
  }
 },
 "nbformat": 4,
 "nbformat_minor": 4
}
